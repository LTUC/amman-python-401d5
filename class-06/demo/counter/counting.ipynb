{
 "cells": [
  {
   "cell_type": "markdown",
   "source": [
    "# Counter Module\n",
    "\n",
    "Why?\n",
    "\n",
    "People are good at counting intuitivly."
   ],
   "metadata": {}
  },
  {
   "cell_type": "markdown",
   "source": [],
   "metadata": {}
  },
  {
   "cell_type": "code",
   "execution_count": 18,
   "source": [
    "fruit = [\"apple\",\"banana\",\"orange\",\"grape\",\"banana\",\"grape\",\"grape\",\"banana\",\"orange\",\"grape\",\"banana\",\"apple\",\"apple\",\"banana\",\"orange\",\"apple\",\"banana\",\"apple\"]"
   ],
   "outputs": [],
   "metadata": {}
  },
  {
   "cell_type": "markdown",
   "source": [
    "- Write code to determine fruit is most common?\n",
    "- What about 2nd most?\n",
    "- Least common?"
   ],
   "metadata": {}
  },
  {
   "cell_type": "code",
   "execution_count": 19,
   "source": [
    "fruit_map = {}\n",
    "for piece in fruit: \n",
    "    # check if  the fruit is not in dictionary and add it with default value 0\n",
    "    current_count = fruit_map.get(piece, 0)\n",
    "    # increment count by 1 and save in the dictionary\n",
    "    fruit_map[piece] = current_count + 1\n",
    "\n",
    "print(fruit_map)\n"
   ],
   "outputs": [
    {
     "output_type": "stream",
     "name": "stdout",
     "text": [
      "{'apple': 5, 'banana': 6, 'orange': 3, 'grape': 4}\n"
     ]
    }
   ],
   "metadata": {}
  },
  {
   "cell_type": "code",
   "execution_count": 20,
   "source": [
    "most_common_count = 0\n",
    "most_common_fruit = None\n",
    "\n",
    "for fruit_name in fruit_map:\n",
    "    if fruit_map[fruit_name] > most_common_count:\n",
    "        most_common_count = fruit_map[fruit_name]\n",
    "        most_common_fruit = fruit_name\n",
    "\n",
    "print(most_common_fruit)"
   ],
   "outputs": [
    {
     "output_type": "stream",
     "name": "stdout",
     "text": [
      "banana\n"
     ]
    }
   ],
   "metadata": {}
  },
  {
   "cell_type": "code",
   "execution_count": 21,
   "source": [
    "least_common_count = 0\n",
    "least_common_fruit = None\n",
    "\n",
    "for fruit_name in fruit_map:\n",
    "    if fruit_map[fruit_name] < least_common_count or least_common_count == 0:\n",
    "        least_common_count = fruit_map[fruit_name]\n",
    "        least_common_fruit = fruit_name\n",
    "\n",
    "print(least_common_fruit)"
   ],
   "outputs": [
    {
     "output_type": "stream",
     "name": "stdout",
     "text": [
      "orange\n"
     ]
    }
   ],
   "metadata": {}
  },
  {
   "cell_type": "markdown",
   "source": [
    "What?\n",
    "\n",
    "Counter class from the collections module"
   ],
   "metadata": {}
  },
  {
   "cell_type": "code",
   "execution_count": 22,
   "source": [
    "from collections import Counter\n",
    "\n",
    "fruit_counter = Counter(fruit)\n",
    "print(fruit_counter)"
   ],
   "outputs": [
    {
     "output_type": "stream",
     "name": "stdout",
     "text": [
      "Counter({'banana': 6, 'apple': 5, 'grape': 4, 'orange': 3})\n"
     ]
    }
   ],
   "metadata": {}
  },
  {
   "cell_type": "code",
   "execution_count": 23,
   "source": [
    "fruit_counter.most_common()"
   ],
   "outputs": [
    {
     "output_type": "execute_result",
     "data": {
      "text/plain": [
       "[('banana', 6), ('apple', 5), ('grape', 4), ('orange', 3)]"
      ]
     },
     "metadata": {},
     "execution_count": 23
    }
   ],
   "metadata": {}
  },
  {
   "cell_type": "code",
   "execution_count": 25,
   "source": [
    "dice_count = Counter((1,1,2,2,5,5))\n",
    "dice_count.most_common()"
   ],
   "outputs": [
    {
     "output_type": "execute_result",
     "data": {
      "text/plain": [
       "[(1, 2), (2, 2), (5, 2)]"
      ]
     },
     "metadata": {},
     "execution_count": 25
    }
   ],
   "metadata": {}
  },
  {
   "cell_type": "code",
   "execution_count": 48,
   "source": [
    "from random import randint, sample\n",
    "\n",
    "def roll_dice(num=6):\n",
    "    \"\"\" return a tuble containing num number of dice\"\"\"\n",
    "    # return tuple(randint(1,6) for _ in range(0, num))\n",
    "    return sample(range(1, 6 + 1), num)\n",
    "\n",
    "roll_dice(3)\n"
   ],
   "outputs": [
    {
     "output_type": "execute_result",
     "data": {
      "text/plain": [
       "[1, 3, 6]"
      ]
     },
     "metadata": {},
     "execution_count": 48
    }
   ],
   "metadata": {}
  }
 ],
 "metadata": {
  "orig_nbformat": 4,
  "language_info": {
   "name": "python",
   "version": "3.9.5",
   "mimetype": "text/x-python",
   "codemirror_mode": {
    "name": "ipython",
    "version": 3
   },
   "pygments_lexer": "ipython3",
   "nbconvert_exporter": "python",
   "file_extension": ".py"
  },
  "kernelspec": {
   "name": "python3",
   "display_name": "Python 3.9.5 64-bit ('.venv': poetry)"
  },
  "interpreter": {
   "hash": "5f9cc395f596fd39cd0f479fdb8ace8716ce6cbe17ac99dc2bbd4c48c8e6a1d5"
  }
 },
 "nbformat": 4,
 "nbformat_minor": 2
}